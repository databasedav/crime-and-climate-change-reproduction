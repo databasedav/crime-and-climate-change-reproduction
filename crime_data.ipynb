{
 "cells": [
  {
   "cell_type": "markdown",
   "metadata": {},
   "source": [
    "# Crime Data"
   ]
  },
  {
   "cell_type": "code",
   "execution_count": 1,
   "metadata": {},
   "outputs": [],
   "source": [
    "import _pickle as pickle  # using cPickle\n",
    "\n",
    "import numpy as np\n",
    "import pandas as pd\n",
    "\n",
    "from IPython.display import clear_output"
   ]
  },
  {
   "cell_type": "markdown",
   "metadata": {},
   "source": [
    "Download the file from here: https://www.openicpsr.org/openicpsr/project/100707/version/V7/view;jsessionid=32DB80E49822A7D63A01ECD6C39324C7?path=/openicpsr/100707/fcr:versions/V7/ucr_offenses_known_monthly_1960_2016_dta.zip&type=file and then extract it into a file called `crime_data`. The only years needed are the years 1980-2009, so you may delete the rest if you wish."
   ]
  },
  {
   "cell_type": "code",
   "execution_count": 2,
   "metadata": {},
   "outputs": [],
   "source": [
    "required_columns = [\n",
    "    'year',\n",
    "    'month',\n",
    "    'last_month_reported',\n",
    "    'fips_state_county_code',\n",
    "    'total_population',\n",
    "    'act_murder',\n",
    "    'act_manslaughter',\n",
    "    'act_rape_total',\n",
    "    'act_aggravated_assault',\n",
    "    'act_simple_assault',\n",
    "    'act_robbery_total',\n",
    "    'act_burglary_total',\n",
    "    'act_theft_total',\n",
    "    'act_mtr_vhc_theft_total'\n",
    "]"
   ]
  },
  {
   "cell_type": "code",
   "execution_count": 3,
   "metadata": {},
   "outputs": [],
   "source": [
    "column_rename_dict = {\n",
    "    'fips_state_county_code': 'fips',\n",
    "    'total_population': 'population',\n",
    "    'act_murder': 'murder',\n",
    "    'act_manslaughter': 'manslaugther',\n",
    "    'act_rape_total': 'rape',\n",
    "    'act_aggravated_assault': 'aggravated assault',\n",
    "    'act_simple_assault': 'simple assault',\n",
    "    'act_robbery_total': 'robbery',\n",
    "    'act_burglary_total': 'burglary',\n",
    "    'act_theft_total': 'larceny',\n",
    "    'act_mtr_vhc_theft_total': 'vehicle theft'\n",
    "}"
   ]
  },
  {
   "cell_type": "code",
   "execution_count": 4,
   "metadata": {},
   "outputs": [],
   "source": [
    "# dict from year to cleaned crime dataframe\n",
    "crime_df_dict = dict()"
   ]
  },
  {
   "cell_type": "code",
   "execution_count": 5,
   "metadata": {},
   "outputs": [
    {
     "name": "stdout",
     "output_type": "stream",
     "text": [
      "CPU times: user 2min 43s, sys: 14.7 s, total: 2min 58s\n",
      "Wall time: 2min 13s\n"
     ]
    }
   ],
   "source": [
    "%%time\n",
    "# no need to repeat after pickling (only ever do once)\n",
    "# time required estimate: 2-3+ minutes\n",
    "years = range(1980, 2010)\n",
    "for year in years:\n",
    "    print(f'cleaning dataframe for: {year} ({year-1980+1}/{len(years)})')\n",
    "    clear_output(wait=True)\n",
    "    df = pd.read_stata(f'crime_data/ucr_offenses_known_monthly_{year}.dta')\n",
    "    df = df[required_columns]\n",
    "    df = df[df['last_month_reported'] == 'december is the last month reported']\n",
    "    df.drop(columns='last_month_reported', inplace=True)\n",
    "    df.rename(columns=column_rename_dict, inplace=True)\n",
    "    crime_df_dict[year] = df"
   ]
  },
  {
   "cell_type": "code",
   "execution_count": 6,
   "metadata": {},
   "outputs": [],
   "source": [
    "with open('pickles/crime_df_dict.pkl', 'wb') as file:\n",
    "    pickle.dump(crime_df_dict, file)"
   ]
  },
  {
   "cell_type": "code",
   "execution_count": 7,
   "metadata": {},
   "outputs": [],
   "source": [
    "with open('pickles/crime_df_dict.pkl', 'rb') as file:\n",
    "    crime_df_dict = pickle.load(file)"
   ]
  },
  {
   "cell_type": "code",
   "execution_count": 8,
   "metadata": {},
   "outputs": [],
   "source": [
    "all_crime_df = pd.concat(list(crime_df_dict.values()))"
   ]
  },
  {
   "cell_type": "code",
   "execution_count": 9,
   "metadata": {},
   "outputs": [
    {
     "data": {
      "text/html": [
       "<div>\n",
       "<style scoped>\n",
       "    .dataframe tbody tr th:only-of-type {\n",
       "        vertical-align: middle;\n",
       "    }\n",
       "\n",
       "    .dataframe tbody tr th {\n",
       "        vertical-align: top;\n",
       "    }\n",
       "\n",
       "    .dataframe thead th {\n",
       "        text-align: right;\n",
       "    }\n",
       "</style>\n",
       "<table border=\"1\" class=\"dataframe\">\n",
       "  <thead>\n",
       "    <tr style=\"text-align: right;\">\n",
       "      <th></th>\n",
       "      <th>year</th>\n",
       "      <th>month</th>\n",
       "      <th>fips</th>\n",
       "      <th>population</th>\n",
       "      <th>murder</th>\n",
       "      <th>manslaugther</th>\n",
       "      <th>rape</th>\n",
       "      <th>aggravated assault</th>\n",
       "      <th>simple assault</th>\n",
       "      <th>robbery</th>\n",
       "      <th>burglary</th>\n",
       "      <th>larceny</th>\n",
       "      <th>vehicle theft</th>\n",
       "    </tr>\n",
       "  </thead>\n",
       "  <tbody>\n",
       "    <tr>\n",
       "      <th>0</th>\n",
       "      <td>1980</td>\n",
       "      <td>january</td>\n",
       "      <td>02020</td>\n",
       "      <td>173992.0</td>\n",
       "      <td>1.0</td>\n",
       "      <td>0.0</td>\n",
       "      <td>11.0</td>\n",
       "      <td>18.0</td>\n",
       "      <td>72.0</td>\n",
       "      <td>24.0</td>\n",
       "      <td>213.0</td>\n",
       "      <td>451.0</td>\n",
       "      <td>94.0</td>\n",
       "    </tr>\n",
       "    <tr>\n",
       "      <th>1</th>\n",
       "      <td>1980</td>\n",
       "      <td>february</td>\n",
       "      <td>02020</td>\n",
       "      <td>173992.0</td>\n",
       "      <td>0.0</td>\n",
       "      <td>0.0</td>\n",
       "      <td>12.0</td>\n",
       "      <td>25.0</td>\n",
       "      <td>101.0</td>\n",
       "      <td>31.0</td>\n",
       "      <td>259.0</td>\n",
       "      <td>473.0</td>\n",
       "      <td>60.0</td>\n",
       "    </tr>\n",
       "    <tr>\n",
       "      <th>2</th>\n",
       "      <td>1980</td>\n",
       "      <td>march</td>\n",
       "      <td>02020</td>\n",
       "      <td>173992.0</td>\n",
       "      <td>2.0</td>\n",
       "      <td>0.0</td>\n",
       "      <td>8.0</td>\n",
       "      <td>15.0</td>\n",
       "      <td>120.0</td>\n",
       "      <td>28.0</td>\n",
       "      <td>262.0</td>\n",
       "      <td>453.0</td>\n",
       "      <td>85.0</td>\n",
       "    </tr>\n",
       "    <tr>\n",
       "      <th>3</th>\n",
       "      <td>1980</td>\n",
       "      <td>april</td>\n",
       "      <td>02020</td>\n",
       "      <td>173992.0</td>\n",
       "      <td>0.0</td>\n",
       "      <td>0.0</td>\n",
       "      <td>9.0</td>\n",
       "      <td>28.0</td>\n",
       "      <td>87.0</td>\n",
       "      <td>19.0</td>\n",
       "      <td>184.0</td>\n",
       "      <td>654.0</td>\n",
       "      <td>75.0</td>\n",
       "    </tr>\n",
       "    <tr>\n",
       "      <th>4</th>\n",
       "      <td>1980</td>\n",
       "      <td>may</td>\n",
       "      <td>02020</td>\n",
       "      <td>173992.0</td>\n",
       "      <td>2.0</td>\n",
       "      <td>0.0</td>\n",
       "      <td>17.0</td>\n",
       "      <td>22.0</td>\n",
       "      <td>116.0</td>\n",
       "      <td>25.0</td>\n",
       "      <td>203.0</td>\n",
       "      <td>645.0</td>\n",
       "      <td>69.0</td>\n",
       "    </tr>\n",
       "  </tbody>\n",
       "</table>\n",
       "</div>"
      ],
      "text/plain": [
       "   year     month   fips  population  murder  manslaugther  rape  \\\n",
       "0  1980   january  02020    173992.0     1.0           0.0  11.0   \n",
       "1  1980  february  02020    173992.0     0.0           0.0  12.0   \n",
       "2  1980     march  02020    173992.0     2.0           0.0   8.0   \n",
       "3  1980     april  02020    173992.0     0.0           0.0   9.0   \n",
       "4  1980       may  02020    173992.0     2.0           0.0  17.0   \n",
       "\n",
       "   aggravated assault  simple assault  robbery  burglary  larceny  \\\n",
       "0                18.0            72.0     24.0     213.0    451.0   \n",
       "1                25.0           101.0     31.0     259.0    473.0   \n",
       "2                15.0           120.0     28.0     262.0    453.0   \n",
       "3                28.0            87.0     19.0     184.0    654.0   \n",
       "4                22.0           116.0     25.0     203.0    645.0   \n",
       "\n",
       "   vehicle theft  \n",
       "0           94.0  \n",
       "1           60.0  \n",
       "2           85.0  \n",
       "3           75.0  \n",
       "4           69.0  "
      ]
     },
     "execution_count": 9,
     "metadata": {},
     "output_type": "execute_result"
    }
   ],
   "source": [
    "all_crime_df.head()"
   ]
  },
  {
   "cell_type": "code",
   "execution_count": 10,
   "metadata": {},
   "outputs": [],
   "source": [
    "with open('pickles/all_crime_df.pkl', 'wb') as file:\n",
    "    pickle.dump(all_crime_df, file)"
   ]
  },
  {
   "cell_type": "code",
   "execution_count": 11,
   "metadata": {},
   "outputs": [],
   "source": [
    "with open('pickles/all_crime_df.pkl', 'rb') as file:\n",
    "    all_crime_df = pickle.load(file)"
   ]
  },
  {
   "cell_type": "code",
   "execution_count": null,
   "metadata": {},
   "outputs": [],
   "source": []
  }
 ],
 "metadata": {
  "kernelspec": {
   "display_name": "Python 3",
   "language": "python",
   "name": "python3"
  },
  "language_info": {
   "codemirror_mode": {
    "name": "ipython",
    "version": 3
   },
   "file_extension": ".py",
   "mimetype": "text/x-python",
   "name": "python",
   "nbconvert_exporter": "python",
   "pygments_lexer": "ipython3",
   "version": "3.7.0"
  }
 },
 "nbformat": 4,
 "nbformat_minor": 2
}
